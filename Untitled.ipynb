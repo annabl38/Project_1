{
 "cells": [
  {
   "cell_type": "code",
   "execution_count": 1,
   "metadata": {},
   "outputs": [
    {
     "name": "stderr",
     "output_type": "stream",
     "text": [
      "/Users/alexsnyder96/anaconda/envs/PythonData/lib/python3.6/site-packages/statsmodels/compat/pandas.py:56: FutureWarning: The pandas.core.datetools module is deprecated and will be removed in a future version. Please use the pandas.tseries module instead.\n",
      "  from pandas.core import datetools\n"
     ]
    }
   ],
   "source": [
    "import pandas as pd \n",
    "import numpy as np \n",
    "from matplotlib import pyplot as plt\n",
    "from scipy.stats import linregress\n",
    "import statsmodels.formula.api as sm1\n",
    "import statsmodels.api as sm\n",
    "from sklearn.preprocessing import PolynomialFeatures\n",
    "from sklearn.linear_model import LinearRegression\n",
    "from sklearn.pipeline import Pipeline\n",
    "\n",
    "employ_csv = \"employee_reviews.csv\"\n",
    "ep = pd.read_csv(employ_csv)"
   ]
  },
  {
   "cell_type": "code",
   "execution_count": 2,
   "metadata": {},
   "outputs": [
    {
     "data": {
      "text/html": [
       "<div>\n",
       "<style>\n",
       "    .dataframe thead tr:only-child th {\n",
       "        text-align: right;\n",
       "    }\n",
       "\n",
       "    .dataframe thead th {\n",
       "        text-align: left;\n",
       "    }\n",
       "\n",
       "    .dataframe tbody tr th {\n",
       "        vertical-align: top;\n",
       "    }\n",
       "</style>\n",
       "<table border=\"1\" class=\"dataframe\">\n",
       "  <thead>\n",
       "    <tr style=\"text-align: right;\">\n",
       "      <th></th>\n",
       "      <th>Unnamed: 0</th>\n",
       "      <th>company</th>\n",
       "      <th>location</th>\n",
       "      <th>dates</th>\n",
       "      <th>job-title</th>\n",
       "      <th>summary</th>\n",
       "      <th>pros</th>\n",
       "      <th>cons</th>\n",
       "      <th>advice-to-mgmt</th>\n",
       "      <th>overall-ratings</th>\n",
       "      <th>work-balance-stars</th>\n",
       "      <th>culture-values-stars</th>\n",
       "      <th>carrer-opportunities-stars</th>\n",
       "      <th>comp-benefit-stars</th>\n",
       "      <th>senior-mangemnet-stars</th>\n",
       "      <th>helpful-count</th>\n",
       "      <th>link</th>\n",
       "    </tr>\n",
       "  </thead>\n",
       "  <tbody>\n",
       "    <tr>\n",
       "      <th>0</th>\n",
       "      <td>1</td>\n",
       "      <td>google</td>\n",
       "      <td>none</td>\n",
       "      <td>Dec 11, 2018</td>\n",
       "      <td>Current Employee - Anonymous Employee</td>\n",
       "      <td>Best Company to work for</td>\n",
       "      <td>People are smart and friendly</td>\n",
       "      <td>Bureaucracy is slowing things down</td>\n",
       "      <td>none</td>\n",
       "      <td>5</td>\n",
       "      <td>4</td>\n",
       "      <td>5</td>\n",
       "      <td>5</td>\n",
       "      <td>4</td>\n",
       "      <td>5</td>\n",
       "      <td>0</td>\n",
       "      <td>https://www.glassdoor.com/Reviews/Google-Revie...</td>\n",
       "    </tr>\n",
       "  </tbody>\n",
       "</table>\n",
       "</div>"
      ],
      "text/plain": [
       "   Unnamed: 0 company location          dates  \\\n",
       "0           1  google     none   Dec 11, 2018   \n",
       "\n",
       "                               job-title                   summary  \\\n",
       "0  Current Employee - Anonymous Employee  Best Company to work for   \n",
       "\n",
       "                            pros                                cons  \\\n",
       "0  People are smart and friendly  Bureaucracy is slowing things down   \n",
       "\n",
       "  advice-to-mgmt  overall-ratings work-balance-stars culture-values-stars  \\\n",
       "0           none                5                  4                    5   \n",
       "\n",
       "  carrer-opportunities-stars comp-benefit-stars senior-mangemnet-stars  \\\n",
       "0                          5                  4                      5   \n",
       "\n",
       "   helpful-count                                               link  \n",
       "0              0  https://www.glassdoor.com/Reviews/Google-Revie...  "
      ]
     },
     "execution_count": 2,
     "metadata": {},
     "output_type": "execute_result"
    }
   ],
   "source": [
    "ep.head(1)"
   ]
  },
  {
   "cell_type": "code",
   "execution_count": 3,
   "metadata": {},
   "outputs": [],
   "source": [
    "epp= pd.DataFrame({\n",
    "    \"overall\": ep[\"overall-ratings\"],\n",
    "    \"work_balance\": ep[\"work-balance-stars\"],\n",
    "    \"culture\": ep[\"culture-values-stars\"],\n",
    "    \"oppertunities\": ep[\"carrer-opportunities-stars\"],\n",
    "    \"management\": ep[\"senior-mangemnet-stars\"]\n",
    "})\n",
    "\n",
    "# # epp.head()\n",
    "\n",
    "# print(epp[\"culture\"].count())\n",
    "# print(epp[\"overall\"].count())\n",
    "# epp[\"culture\"].value_counts()\n",
    "\n",
    "# print(epp[\"overall\"].value_counts())\n",
    "# print(epp[\"culture\"].value_counts())\n",
    "# print(epp[\"work_balance\"].value_counts())\n",
    "# print(epp[\"oppertunities\"].value_counts())\n",
    "# print(epp[\"management\"].value_counts())\n",
    "\n",
    "# # print(epp.count())"
   ]
  },
  {
   "cell_type": "code",
   "execution_count": 4,
   "metadata": {},
   "outputs": [],
   "source": [
    "epp= epp.replace(\"none\", np.nan)\n",
    "\n",
    "# print(epp[\"overall\"].value_counts())\n",
    "# print(epp[\"culture\"].value_counts())\n",
    "# print(epp[\"work_balance\"].value_counts())\n",
    "# print(epp[\"oppertunities\"].value_counts())\n",
    "# print(epp[\"management\"].value_counts())\n",
    "\n",
    "# epp.count()"
   ]
  },
  {
   "cell_type": "code",
   "execution_count": 5,
   "metadata": {},
   "outputs": [],
   "source": [
    "epp= epp.dropna(how=\"any\")\n",
    "# epp= pd.to_numeric"
   ]
  },
  {
   "cell_type": "code",
   "execution_count": 6,
   "metadata": {},
   "outputs": [],
   "source": [
    "#turining thes into lists\n",
    "xx1= epp[\"culture\"].tolist()\n",
    "x1 =[int(n) for n in xx1]\n",
    "\n",
    "xx2= epp[\"work_balance\"].tolist()\n",
    "x2 =[int(n) for n in xx2]\n",
    "\n",
    "xx3= epp[\"oppertunities\"].tolist()\n",
    "x3 =[int(n) for n in xx3]\n",
    "\n",
    "xx4= epp[\"management\"].tolist()\n",
    "x4 =[int(n) for n in xx4]\n",
    "\n",
    "yy1= epp[\"overall\"].tolist()\n",
    "y1 =[int(b) for b in yy1]\n",
    "\n",
    "lol = pd.DataFrame({\n",
    "    \"Culture\": x1,\n",
    "    \"Work_Balance\": x2,\n",
    "    \"Oppertunities\": x3,\n",
    "    \"Management\": x4,\n",
    "    \"Overall\": y1\n",
    "})"
   ]
  },
  {
   "cell_type": "code",
   "execution_count": 7,
   "metadata": {},
   "outputs": [
    {
     "name": "stdout",
     "output_type": "stream",
     "text": [
      "Intercept: \n",
      " 0.603391471646\n",
      "Coefficients: \n",
      " [ 0.32699567  0.14255496  0.2557133   0.17622381]\n",
      "Predicted Review: \n",
      " [ 3.22014829]\n",
      "                            OLS Regression Results                            \n",
      "==============================================================================\n",
      "Dep. Variable:                Overall   R-squared:                       0.707\n",
      "Model:                            OLS   Adj. R-squared:                  0.707\n",
      "Method:                 Least Squares   F-statistic:                 3.207e+04\n",
      "Date:                Tue, 19 Mar 2019   Prob (F-statistic):               0.00\n",
      "Time:                        21:03:17   Log-Likelihood:                -50932.\n",
      "No. Observations:               53284   AIC:                         1.019e+05\n",
      "Df Residuals:                   53279   BIC:                         1.019e+05\n",
      "Df Model:                           4                                         \n",
      "Covariance Type:            nonrobust                                         \n",
      "=================================================================================\n",
      "                    coef    std err          t      P>|t|      [0.025      0.975]\n",
      "---------------------------------------------------------------------------------\n",
      "const             0.6034      0.010     62.377      0.000       0.584       0.622\n",
      "Culture           0.3270      0.003    101.937      0.000       0.321       0.333\n",
      "Work_Balance      0.1426      0.003     53.590      0.000       0.137       0.148\n",
      "Oppertunities     0.2557      0.003     86.294      0.000       0.250       0.262\n",
      "Management        0.1762      0.003     53.498      0.000       0.170       0.183\n",
      "==============================================================================\n",
      "Omnibus:                     2511.307   Durbin-Watson:                   1.923\n",
      "Prob(Omnibus):                  0.000   Jarque-Bera (JB):             8647.578\n",
      "Skew:                          -0.106   Prob(JB):                         0.00\n",
      "Kurtosis:                       4.962   Cond. No.                         26.8\n",
      "==============================================================================\n",
      "\n",
      "Warnings:\n",
      "[1] Standard Errors assume that the covariance matrix of the errors is correctly specified.\n"
     ]
    }
   ],
   "source": [
    "from pandas import DataFrame\n",
    "from sklearn import linear_model\n",
    "import statsmodels.api as sm\n",
    "\n",
    "X = lol[['Culture','Work_Balance','Oppertunities', 'Management']] \n",
    "Y = lol['Overall']\n",
    " \n",
    "# with sklearn\n",
    "regr = linear_model.LinearRegression()\n",
    "regr.fit(X, Y)\n",
    "\n",
    "print('Intercept: \\n', regr.intercept_)\n",
    "print('Coefficients: \\n', regr.coef_)\n",
    "\n",
    "# prediction with sklearn\n",
    "New_Culture = 2\n",
    "New_Management = 4\n",
    "New_Oppertunities= 2\n",
    "New_Work_Balance= 5\n",
    "print ('Predicted Review: \\n', regr.predict([[New_Culture ,New_Management, New_Oppertunities, New_Work_Balance]]))\n",
    "\n",
    "# with statsmodels\n",
    "X = sm.add_constant(X) # adding a constant\n",
    " \n",
    "model = sm.OLS(Y, X).fit()\n",
    "predictions = model.predict(X) \n",
    " \n",
    "print_model = model.summary()\n",
    "print(print_model)"
   ]
  },
  {
   "cell_type": "code",
   "execution_count": null,
   "metadata": {
    "collapsed": true
   },
   "outputs": [],
   "source": []
  }
 ],
 "metadata": {
  "kernelspec": {
   "display_name": "Python 3",
   "language": "python",
   "name": "python3"
  },
  "language_info": {
   "codemirror_mode": {
    "name": "ipython",
    "version": 3
   },
   "file_extension": ".py",
   "mimetype": "text/x-python",
   "name": "python",
   "nbconvert_exporter": "python",
   "pygments_lexer": "ipython3",
   "version": "3.6.1"
  }
 },
 "nbformat": 4,
 "nbformat_minor": 2
}
