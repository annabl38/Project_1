{
 "cells": [
  {
   "cell_type": "code",
   "execution_count": 1,
   "metadata": {},
   "outputs": [],
   "source": [
    "# Dependencies\n",
    "import os\n",
    "import string\n",
    "\n",
    "import nltk\n",
    "from nltk import word_tokenize\n",
    "from nltk.corpus import stopwords\n",
    "from nltk.probability import FreqDist\n",
    "\n",
    "import pandas as pd\n",
    "from matplotlib import pylab\n",
    "import matplotlib.pyplot as plt\n",
    "\n",
    "from collections import Counter\n",
    "\n",
    "from wordcloud import WordCloud\n",
    "from CustomFreqDist import CustomFreqDist"
   ]
  },
  {
   "cell_type": "code",
   "execution_count": 2,
   "metadata": {},
   "outputs": [],
   "source": [
    "# Import file\n",
    "csv_data = pd.read_csv(os.path.join('.','employee_reviews.csv'))\n",
    "df = pd.DataFrame(csv_data)\n",
    "\n",
    "# Create company specific dataframes\n",
    "google_df = df.loc[df['company']=='google',:]\n",
    "microsoft_df = df.loc[df['company']=='microsoft',:]\n",
    "amazon_df = df.loc[df['company']=='amazon',:]\n",
    "apple_df = df.loc[df['company']=='apple',:]\n",
    "facebook_df = df.loc[df['company']=='facebook',:]"
   ]
  },
  {
   "cell_type": "code",
   "execution_count": 3,
   "metadata": {},
   "outputs": [
    {
     "name": "stdout",
     "output_type": "stream",
     "text": [
      "66719\n",
      "67529\n"
     ]
    }
   ],
   "source": [
    "# Checking to see if significant amounts of data is missing (all missing data are for Netflix)\n",
    "microsoft = microsoft_df['company'].count()\n",
    "amazon = amazon_df['company'].count()\n",
    "apple = apple_df['company'].count()\n",
    "facebook = facebook_df['company'].count()\n",
    "google = google_df['company'].count()\n",
    "print(microsoft+amazon+apple+facebook+google)\n",
    "print(df['company'].count())"
   ]
  },
  {
   "cell_type": "code",
   "execution_count": 4,
   "metadata": {},
   "outputs": [],
   "source": [
    "# Creates a stopwords set.\n",
    "stop_words=set(stopwords.words(\"english\"))\n",
    "stopcaps = []\n",
    "for word in stop_words:\n",
    "    word = word.translate(str.maketrans(string.ascii_lowercase, string.ascii_uppercase))\n",
    "    stopcaps.append(word)"
   ]
  },
  {
   "cell_type": "code",
   "execution_count": 5,
   "metadata": {},
   "outputs": [],
   "source": [
    "# Define function for splitting reviews to text file.\n",
    "def getreviews(import_df, company_name, prosorcons):\n",
    "    holder_df = import_df\n",
    "    if prosorcons == 'pros':\n",
    "        with open(f'pros/{company_name}_pros.txt', 'w') as text:\n",
    "            for index, row in holder_df.iterrows():\n",
    "                text_holder = row['pros']\n",
    "                text.write(text_holder+'\\n')\n",
    "        text.close()\n",
    "    if prosorcons == 'cons':\n",
    "        with open(f'cons/{company_name}_cons.txt', 'w') as text:\n",
    "            for index, row in holder_df.iterrows():\n",
    "                text_holder = row['cons']\n",
    "                text.write(text_holder+'\\n')\n",
    "        text.close()\n",
    "        \n",
    "# Define function to clean text.\n",
    "def cleantext(company_name, prosorcons):\n",
    "    if prosorcons == 'pros':\n",
    "        with open(f'{prosorcons}/{company_name}_{prosorcons}.txt', 'r') as pros:\n",
    "            prostext = pros.read()\n",
    "            proswords = prostext\n",
    "            proswords = proswords.translate(str.maketrans(string.punctuation, ' '*len(string.punctuation)))\n",
    "            proswords = proswords.translate(str.maketrans(string.digits, ' '*len(string.digits)))\n",
    "            proswords = proswords.translate(str.maketrans(string.ascii_lowercase, string.ascii_uppercase))\n",
    "            prostoken = nltk.word_tokenize(proswords)\n",
    "        pros.close()\n",
    "        \n",
    "        filteredpros=[]\n",
    "        for w in prostoken:\n",
    "            if w not in stopcaps:\n",
    "                filteredpros.append(w)\n",
    "        prosdist = CustomFreqDist(filteredpros)\n",
    "        \n",
    "        return prosdist\n",
    "    \n",
    "    if prosorcons == 'cons':\n",
    "        with open(f'{prosorcons}/{company_name}_{prosorcons}.txt', 'r') as cons:\n",
    "            constext = cons.read()\n",
    "            conswords = constext\n",
    "            conswords = conswords.translate(str.maketrans(string.punctuation, ' '*len(string.punctuation)))\n",
    "            conswords = conswords.translate(str.maketrans(string.digits, ' '*len(string.digits)))\n",
    "            conswords = conswords.translate(str.maketrans(string.ascii_lowercase, string.ascii_uppercase))\n",
    "            constoken = nltk.word_tokenize(conswords)\n",
    "        cons.close()\n",
    "        \n",
    "        filteredcons=[]\n",
    "        for w in constoken:\n",
    "            if w not in stopcaps:\n",
    "                filteredcons.append(w)\n",
    "        consdist = CustomFreqDist(filteredcons)\n",
    "        \n",
    "        return consdist\n",
    "\n",
    "# Define wordcloud function\n",
    "def show_wc(company_name, prosorcons, title = None):\n",
    "    if prosorcons == 'pros':\n",
    "        with open(f'{prosorcons}/{company_name}_{prosorcons}.txt', 'r') as pros:\n",
    "            prostext = pros.read()\n",
    "            wordcloud = WordCloud(\n",
    "                background_color='white',\n",
    "                max_words=200,\n",
    "                max_font_size=50, \n",
    "                scale=3,\n",
    "                random_state=1\n",
    "            ).generate(str(prostext))\n",
    "            fig = plt.figure(1, figsize=(12, 12))\n",
    "            plt.axis('off')\n",
    "            if title:\n",
    "                fig.suptitle(title, fontsize=20)\n",
    "                fig.subplots_adjust(top=2.3)\n",
    "            plt.imshow(wordcloud)\n",
    "            plt.show()\n",
    "    if prosorcons == 'cons':\n",
    "        with open(f'{prosorcons}/{company_name}_{prosorcons}.txt', 'r') as cons:\n",
    "            constext = cons.read()\n",
    "            wordcloud = WordCloud(\n",
    "                background_color='white',\n",
    "                max_words=200,\n",
    "                max_font_size=50, \n",
    "                scale=3,\n",
    "                random_state=1\n",
    "            ).generate(str(constext))\n",
    "            fig = plt.figure(1, figsize=(12, 12))\n",
    "            plt.axis('off')\n",
    "            if title: \n",
    "                fig.suptitle(title, fontsize=20)\n",
    "                fig.subplots_adjust(top=2.3)\n",
    "            plt.imshow(wordcloud)\n",
    "            plt.show()"
   ]
  },
  {
   "cell_type": "code",
   "execution_count": 6,
   "metadata": {},
   "outputs": [],
   "source": [
    "# Grab reviews from each company_df\n",
    "getreviews(google_df, 'google', 'pros')\n",
    "getreviews(microsoft_df, 'microsoft', 'pros')\n",
    "getreviews(amazon_df, 'amazon', 'pros')\n",
    "getreviews(apple_df, 'apple', 'pros')\n",
    "getreviews(facebook_df, 'facebook', 'pros')\n",
    "getreviews(google_df, 'google', 'cons')\n",
    "getreviews(microsoft_df, 'microsoft', 'cons')\n",
    "getreviews(amazon_df, 'amazon', 'cons')\n",
    "getreviews(apple_df, 'apple', 'cons')\n",
    "getreviews(facebook_df, 'facebook', 'cons')"
   ]
  },
  {
   "cell_type": "code",
   "execution_count": 7,
   "metadata": {},
   "outputs": [],
   "source": [
    "# Cleans text and returns a frequency distribution.\n",
    "google_pros = cleantext('google', 'pros')\n",
    "microsoft_pros = cleantext('microsoft', 'pros')\n",
    "amazon_pros = cleantext('amazon', 'pros')\n",
    "facebook_pros = cleantext('facebook', 'pros')\n",
    "apple_pros = cleantext('apple', 'pros')\n",
    "google_cons = cleantext('google', 'cons')\n",
    "microsoft_cons = cleantext('microsoft', 'cons')\n",
    "amazon_cons = cleantext('amazon', 'cons')\n",
    "facebook_cons = cleantext('facebook', 'cons')\n",
    "apple_cons = cleantext('apple', 'cons')"
   ]
  },
  {
   "cell_type": "code",
   "execution_count": 9,
   "metadata": {},
   "outputs": [
    {
     "data": {
      "image/png": "[encoded data removed]",
      "text/plain": [
       "<Figure size 432x288 with 1 Axes>"
      ]
     },
     "metadata": {
      "needs_background": "light"
     },
     "output_type": "display_data"
    }
   ],
   "source": [
    "# Plots word distribution.\n",
    "testplot = microsoft_pros.custom_plot(30,title='Microsoft - Pros')\n",
    "testplot.savefig('test.png')"
   ]
  },
  {
   "cell_type": "code",
   "execution_count": null,
   "metadata": {},
   "outputs": [],
   "source": [
    "show_wc('microsoft', 'pros')"
   ]
  },
  {
   "cell_type": "code",
   "execution_count": null,
   "metadata": {},
   "outputs": [],
   "source": [
    "# DEPRECIATED\n",
    "\n",
    "# Cycle through rows and write pros review values to a single long text file.\n",
    "# with open('pros.txt', 'w') as pros:\n",
    "#     for index, row in df.iterrows():\n",
    "#         pros_holder = row['pros']\n",
    "#         pros.write(pros_holder+'\\n')\n",
    "# pros.close()\n",
    "\n",
    "# # Cycle through rows and write cons review values to a single long text file.\n",
    "# with open('cons.txt', 'w') as cons:\n",
    "#     for index, row in df.iterrows():\n",
    "#         cons_holder = row['cons']\n",
    "#         cons.write(cons_holder+'\\n')\n",
    "# cons.close()\n",
    "\n",
    "# Opens Pros text file, removes punctuation and numbers.\n",
    "\n",
    "# with open('pros.txt', 'r') as pros:\n",
    "#     prostext = pros.read()\n",
    "#     proswords = prostext\n",
    "#     proswords = proswords.translate(str.maketrans(string.punctuation, ' '*len(string.punctuation)))\n",
    "#     proswords = proswords.translate(str.maketrans(string.digits, ' '*len(string.digits)))\n",
    "#     proswords = proswords.translate(str.maketrans(string.ascii_lowercase, string.ascii_uppercase))\n",
    "#     prostoken = nltk.word_tokenize(proswords)\n",
    "# pros.close()\n",
    "    \n",
    "# Creates a list of tokens after stopwords filtered out.\n",
    "# filteredpros=[]\n",
    "# for w in prostoken:\n",
    "#     if w not in stopcaps:\n",
    "#         filteredpros.append(w)        \n",
    "# prosdist = FreqDist(filteredpros)\n",
    "\n",
    "# Print out 50 most commonly used tokens.\n",
    "# prosdist.most_common(50)"
   ]
  }
 ],
 "metadata": {
  "kernelspec": {
   "display_name": "Python 3",
   "language": "python",
   "name": "python3"
  },
  "language_info": {
   "codemirror_mode": {
    "name": "ipython",
    "version": 3
   },
   "file_extension": ".py",
   "mimetype": "text/x-python",
   "name": "python",
   "nbconvert_exporter": "python",
   "pygments_lexer": "ipython3",
   "version": "3.7.1"
  }
 },
 "nbformat": 4,
 "nbformat_minor": 2
}
