{
 "cells": [
  {
   "cell_type": "code",
   "execution_count": 1,
   "metadata": {},
   "outputs": [
    {
     "name": "stderr",
     "output_type": "stream",
     "text": [
      "/Users/alexsnyder96/anaconda/envs/PythonData/lib/python3.6/site-packages/statsmodels/compat/pandas.py:56: FutureWarning: The pandas.core.datetools module is deprecated and will be removed in a future version. Please use the pandas.tseries module instead.\n",
      "  from pandas.core import datetools\n"
     ]
    }
   ],
   "source": [
    "import pandas as pd \n",
    "import numpy as np \n",
    "from matplotlib import pyplot as plt\n",
    "from scipy.stats import linregress\n",
    "import statsmodels.formula.api as sm1\n",
    "import statsmodels.api as sm\n",
    "from sklearn.preprocessing import PolynomialFeatures\n",
    "from sklearn.linear_model import LinearRegression\n",
    "from sklearn.pipeline import Pipeline\n",
    "\n",
    "employ_csv = \"employee_reviews.csv\"\n",
    "ep = pd.read_csv(employ_csv)"
   ]
  },
  {
   "cell_type": "code",
   "execution_count": 2,
   "metadata": {},
   "outputs": [
    {
     "data": {
      "text/html": [
       "<div>\n",
       "<style>\n",
       "    .dataframe thead tr:only-child th {\n",
       "        text-align: right;\n",
       "    }\n",
       "\n",
       "    .dataframe thead th {\n",
       "        text-align: left;\n",
       "    }\n",
       "\n",
       "    .dataframe tbody tr th {\n",
       "        vertical-align: top;\n",
       "    }\n",
       "</style>\n",
       "<table border=\"1\" class=\"dataframe\">\n",
       "  <thead>\n",
       "    <tr style=\"text-align: right;\">\n",
       "      <th></th>\n",
       "      <th>Unnamed: 0</th>\n",
       "      <th>company</th>\n",
       "      <th>location</th>\n",
       "      <th>dates</th>\n",
       "      <th>job-title</th>\n",
       "      <th>summary</th>\n",
       "      <th>pros</th>\n",
       "      <th>cons</th>\n",
       "      <th>advice-to-mgmt</th>\n",
       "      <th>overall-ratings</th>\n",
       "      <th>work-balance-stars</th>\n",
       "      <th>culture-values-stars</th>\n",
       "      <th>carrer-opportunities-stars</th>\n",
       "      <th>comp-benefit-stars</th>\n",
       "      <th>senior-mangemnet-stars</th>\n",
       "      <th>helpful-count</th>\n",
       "      <th>link</th>\n",
       "    </tr>\n",
       "  </thead>\n",
       "  <tbody>\n",
       "    <tr>\n",
       "      <th>0</th>\n",
       "      <td>1</td>\n",
       "      <td>google</td>\n",
       "      <td>none</td>\n",
       "      <td>Dec 11, 2018</td>\n",
       "      <td>Current Employee - Anonymous Employee</td>\n",
       "      <td>Best Company to work for</td>\n",
       "      <td>People are smart and friendly</td>\n",
       "      <td>Bureaucracy is slowing things down</td>\n",
       "      <td>none</td>\n",
       "      <td>5.0</td>\n",
       "      <td>4.0</td>\n",
       "      <td>5.0</td>\n",
       "      <td>5.0</td>\n",
       "      <td>4.0</td>\n",
       "      <td>5.0</td>\n",
       "      <td>0</td>\n",
       "      <td>https://www.glassdoor.com/Reviews/Google-Revie...</td>\n",
       "    </tr>\n",
       "  </tbody>\n",
       "</table>\n",
       "</div>"
      ],
      "text/plain": [
       "   Unnamed: 0 company location          dates  \\\n",
       "0           1  google     none   Dec 11, 2018   \n",
       "\n",
       "                               job-title                   summary  \\\n",
       "0  Current Employee - Anonymous Employee  Best Company to work for   \n",
       "\n",
       "                            pros                                cons  \\\n",
       "0  People are smart and friendly  Bureaucracy is slowing things down   \n",
       "\n",
       "  advice-to-mgmt  overall-ratings work-balance-stars culture-values-stars  \\\n",
       "0           none              5.0                4.0                  5.0   \n",
       "\n",
       "  carrer-opportunities-stars comp-benefit-stars senior-mangemnet-stars  \\\n",
       "0                        5.0                4.0                    5.0   \n",
       "\n",
       "   helpful-count                                               link  \n",
       "0              0  https://www.glassdoor.com/Reviews/Google-Revie...  "
      ]
     },
     "execution_count": 2,
     "metadata": {},
     "output_type": "execute_result"
    }
   ],
   "source": [
    "ep.head(1)"
   ]
  },
  {
   "cell_type": "code",
   "execution_count": 3,
   "metadata": {
    "collapsed": true
   },
   "outputs": [],
   "source": [
    "epp= pd.DataFrame({\n",
    "    \"overall\": ep[\"overall-ratings\"],\n",
    "    \"work_balance\": ep[\"work-balance-stars\"],\n",
    "    \"culture\": ep[\"culture-values-stars\"],\n",
    "    \"oppertunities\": ep[\"carrer-opportunities-stars\"],\n",
    "    \"management\": ep[\"senior-mangemnet-stars\"],\n",
    "    \"benefits\": ep[\"comp-benefit-stars\"]\n",
    "})\n",
    "\n",
    "# # epp.head()\n",
    "\n",
    "# print(epp[\"culture\"].count())\n",
    "# print(epp[\"overall\"].count())\n",
    "# epp[\"culture\"].value_counts()\n",
    "\n",
    "# print(epp[\"overall\"].value_counts())\n",
    "# print(epp[\"culture\"].value_counts())\n",
    "# print(epp[\"work_balance\"].value_counts())\n",
    "# print(epp[\"oppertunities\"].value_counts())\n",
    "# print(epp[\"management\"].value_counts())\n",
    "\n",
    "# # print(epp.count())"
   ]
  },
  {
   "cell_type": "code",
   "execution_count": 4,
   "metadata": {},
   "outputs": [
    {
     "data": {
      "text/plain": [
       "benefits         60368\n",
       "culture          53983\n",
       "management       59754\n",
       "oppertunities    60421\n",
       "overall          67529\n",
       "work_balance     60369\n",
       "dtype: int64"
      ]
     },
     "execution_count": 4,
     "metadata": {},
     "output_type": "execute_result"
    }
   ],
   "source": [
    "epp= epp.replace(\"none\", np.nan)\n",
    "\n",
    "\n",
    "# print(epp[\"overall\"].value_counts())\n",
    "# print(epp[\"culture\"].value_counts())\n",
    "# print(epp[\"work_balance\"].value_counts())\n",
    "# print(epp[\"oppertunities\"].value_counts())\n",
    "# print(epp[\"management\"].value_counts())\n",
    "# print(epp[[\"overall\", \"culture\", \"work_balance\", \"oppertunities\", \"management\"]].value_counts())\n",
    "\n",
    "\n",
    "# print(epp[\"overall\"].mean())\n",
    "# print(epp[\"culture\"].mean())\n",
    "# print(epp[\"work_balance\"].mean())\n",
    "# print(epp[\"oppertunities\"].mean())\n",
    "# print(epp[\"management\"].mean())\n",
    "\n",
    "\n",
    "epp.count()"
   ]
  },
  {
   "cell_type": "code",
   "execution_count": 5,
   "metadata": {},
   "outputs": [],
   "source": [
    "epp= epp.dropna(how=\"any\")\n"
   ]
  },
  {
   "cell_type": "code",
   "execution_count": 6,
   "metadata": {},
   "outputs": [],
   "source": [
    "#turining thes into lists\n",
    "xx1= epp[\"culture\"].tolist()\n",
    "x1 =[float(n) for n in xx1]\n",
    "\n",
    "xx2= epp[\"work_balance\"].tolist()\n",
    "x2 =[float(n) for n in xx2]\n",
    "\n",
    "xx3= epp[\"oppertunities\"].tolist()\n",
    "x3 =[float(n) for n in xx3]\n",
    "\n",
    "xx4= epp[\"management\"].tolist()\n",
    "x4 =[float(n) for n in xx4]\n",
    "\n",
    "xx5= epp[\"benefits\"].tolist()\n",
    "x5 =[float(n) for n in xx4]\n",
    "\n",
    "yy1= epp[\"overall\"].tolist()\n",
    "y1 =[float(b) for b in yy1]\n",
    "\n",
    "lol = pd.DataFrame({\n",
    "    \"Culture\": x1,\n",
    "    \"Work_Balance\": x2,\n",
    "    \"Oppertunities\": x3,\n",
    "    \"Management\": x4,\n",
    "    \"Benefits\": x5,\n",
    "    \"Overall\": y1\n",
    "})"
   ]
  },
  {
   "cell_type": "code",
   "execution_count": 7,
   "metadata": {},
   "outputs": [
    {
     "name": "stdout",
     "output_type": "stream",
     "text": [
      "Intercept: \n",
      " 1.26619712273\n",
      "Coefficients: \n",
      " [ 0.68048524]\n",
      "                            OLS Regression Results                            \n",
      "==============================================================================\n",
      "Dep. Variable:                Overall   R-squared:                       0.575\n",
      "Model:                            OLS   Adj. R-squared:                  0.575\n",
      "Method:                 Least Squares   F-statistic:                 7.215e+04\n",
      "Date:                Thu, 21 Mar 2019   Prob (F-statistic):               0.00\n",
      "Time:                        21:16:24   Log-Likelihood:                -60689.\n",
      "No. Observations:               53222   AIC:                         1.214e+05\n",
      "Df Residuals:                   53220   BIC:                         1.214e+05\n",
      "Df Model:                           1                                         \n",
      "Covariance Type:            nonrobust                                         \n",
      "==============================================================================\n",
      "                 coef    std err          t      P>|t|      [0.025      0.975]\n",
      "------------------------------------------------------------------------------\n",
      "const          1.2662      0.010    124.908      0.000       1.246       1.286\n",
      "Culture        0.6805      0.003    268.607      0.000       0.676       0.685\n",
      "==============================================================================\n",
      "Omnibus:                     3808.379   Durbin-Watson:                   1.846\n",
      "Prob(Omnibus):                  0.000   Jarque-Bera (JB):             7526.102\n",
      "Skew:                          -0.500   Prob(JB):                         0.00\n",
      "Kurtosis:                       4.547   Cond. No.                         13.1\n",
      "==============================================================================\n",
      "\n",
      "Warnings:\n",
      "[1] Standard Errors assume that the covariance matrix of the errors is correctly specified.\n"
     ]
    }
   ],
   "source": [
    "from pandas import DataFrame\n",
    "from sklearn import linear_model\n",
    "import statsmodels.api as sm\n",
    "\n",
    "X1 = lol[['Culture']] \n",
    "Y1 = lol['Overall']\n",
    " \n",
    "# with sklearn\n",
    "regr1 = linear_model.LinearRegression()\n",
    "regr1.fit(X1, Y1)\n",
    "\n",
    "print('Intercept: \\n', regr1.intercept_)\n",
    "print('Coefficients: \\n', regr1.coef_)\n",
    "\n",
    "# prediction with sklearn\n",
    "\n",
    "# with statsmodels\n",
    "X1 = sm.add_constant(X1) # adding a constant\n",
    " \n",
    "model1 = sm.OLS(Y1, X1).fit()\n",
    "predictions1 = model1.predict(X1) \n",
    " \n",
    "print_model1 = model1.summary()\n",
    "print(print_model1)\n"
   ]
  },
  {
   "cell_type": "code",
   "execution_count": 8,
   "metadata": {},
   "outputs": [
    {
     "name": "stdout",
     "output_type": "stream",
     "text": [
      "Intercept: \n",
      " 0.603680866316\n",
      "Coefficients: \n",
      " [ 0.32700866  0.14223774  0.25577692  0.08821528  0.08821528]\n",
      "                            OLS Regression Results                            \n",
      "==============================================================================\n",
      "Dep. Variable:                Overall   R-squared:                       0.707\n",
      "Model:                            OLS   Adj. R-squared:                  0.707\n",
      "Method:                 Least Squares   F-statistic:                 3.205e+04\n",
      "Date:                Thu, 21 Mar 2019   Prob (F-statistic):               0.00\n",
      "Time:                        21:16:24   Log-Likelihood:                -50856.\n",
      "No. Observations:               53222   AIC:                         1.017e+05\n",
      "Df Residuals:                   53217   BIC:                         1.018e+05\n",
      "Df Model:                           4                                         \n",
      "Covariance Type:            nonrobust                                         \n",
      "=================================================================================\n",
      "                    coef    std err          t      P>|t|      [0.025      0.975]\n",
      "---------------------------------------------------------------------------------\n",
      "const             0.6037      0.010     62.375      0.000       0.585       0.623\n",
      "Culture           0.3270      0.003    101.918      0.000       0.321       0.333\n",
      "Work_Balance      0.1422      0.003     53.448      0.000       0.137       0.147\n",
      "Oppertunities     0.2558      0.003     86.253      0.000       0.250       0.262\n",
      "Management        0.0882      0.002     53.527      0.000       0.085       0.091\n",
      "Benefits          0.0882      0.002     53.527      0.000       0.085       0.091\n",
      "==============================================================================\n",
      "Omnibus:                     2500.300   Durbin-Watson:                   1.924\n",
      "Prob(Omnibus):                  0.000   Jarque-Bera (JB):             8557.401\n",
      "Skew:                          -0.109   Prob(JB):                         0.00\n",
      "Kurtosis:                       4.952   Cond. No.                     2.09e+17\n",
      "==============================================================================\n",
      "\n",
      "Warnings:\n",
      "[1] Standard Errors assume that the covariance matrix of the errors is correctly specified.\n",
      "[2] The smallest eigenvalue is 8.31e-29. This might indicate that there are\n",
      "strong multicollinearity problems or that the design matrix is singular.\n"
     ]
    }
   ],
   "source": [
    "from pandas import DataFrame\n",
    "from sklearn import linear_model\n",
    "import statsmodels.api as sm\n",
    "\n",
    "X2 = lol[['Culture','Work_Balance','Oppertunities', 'Management', 'Benefits']] \n",
    "Y2 = lol['Overall']\n",
    " \n",
    "# with sklearn\n",
    "regr2 = linear_model.LinearRegression()\n",
    "regr2.fit(X2, Y2)\n",
    "\n",
    "print('Intercept: \\n', regr2.intercept_)\n",
    "print('Coefficients: \\n', regr2.coef_)\n",
    "\n",
    "# prediction with sklearn\n",
    "# New_Culture2 = 2\n",
    "# New_Management2 = 4\n",
    "# New_Oppertunities2= 2\n",
    "# New_Work_Balance2= 5\n",
    "# print ('Predicted Review: \\n', regr2.predict([[New_Culture2 ,New_Management2, New_Oppertunities2, New_Work_Balance2]]))\n",
    "\n",
    "# with statsmodels\n",
    "X2 = sm.add_constant(X2) # adding a constant\n",
    " \n",
    "model2 = sm.OLS(Y2, X2).fit()\n",
    "predictions2 = model2.predict(X2) \n",
    " \n",
    "print_model2 = model2.summary()\n",
    "print(print_model2)"
   ]
  },
  {
   "cell_type": "code",
   "execution_count": 9,
   "metadata": {},
   "outputs": [
    {
     "name": "stdout",
     "output_type": "stream",
     "text": [
      "Intercept: \n",
      " 1.26619712273\n",
      "Coefficients: \n",
      " [ 0.68048524]\n",
      "                            OLS Regression Results                            \n",
      "==============================================================================\n",
      "Dep. Variable:                Overall   R-squared:                       0.575\n",
      "Model:                            OLS   Adj. R-squared:                  0.575\n",
      "Method:                 Least Squares   F-statistic:                 7.215e+04\n",
      "Date:                Thu, 21 Mar 2019   Prob (F-statistic):               0.00\n",
      "Time:                        21:16:24   Log-Likelihood:                -60689.\n",
      "No. Observations:               53222   AIC:                         1.214e+05\n",
      "Df Residuals:                   53220   BIC:                         1.214e+05\n",
      "Df Model:                           1                                         \n",
      "Covariance Type:            nonrobust                                         \n",
      "==============================================================================\n",
      "                 coef    std err          t      P>|t|      [0.025      0.975]\n",
      "------------------------------------------------------------------------------\n",
      "const          1.2662      0.010    124.908      0.000       1.246       1.286\n",
      "Culture        0.6805      0.003    268.607      0.000       0.676       0.685\n",
      "==============================================================================\n",
      "Omnibus:                     3808.379   Durbin-Watson:                   1.846\n",
      "Prob(Omnibus):                  0.000   Jarque-Bera (JB):             7526.102\n",
      "Skew:                          -0.500   Prob(JB):                         0.00\n",
      "Kurtosis:                       4.547   Cond. No.                         13.1\n",
      "==============================================================================\n",
      "\n",
      "Warnings:\n",
      "[1] Standard Errors assume that the covariance matrix of the errors is correctly specified.\n"
     ]
    }
   ],
   "source": [
    "X1 = lol[['Culture']]\n",
    "Y1 = lol['Overall']\n",
    "\n",
    "\n",
    "# with sklearn\n",
    "regr2 = linear_model.LinearRegression()\n",
    "regr2.fit(X1, Y1)\n",
    "\n",
    "print('Intercept: \\n', regr1.intercept_)\n",
    "print('Coefficients: \\n', regr1.coef_)\n",
    "\n",
    "# prediction with sklearn\n",
    "# New_Culture = 2\n",
    "# New_Management = 4\n",
    "# New_Oppertunities= 2\n",
    "# New_Work_Balance= 5\n",
    "# print ('Predicted Review: \\n', regr.predict([[New_Culture ,New_Management, New_Oppertunities, New_Work_Balance]]))\n",
    "\n",
    "# with statsmodels\n",
    "X1 = sm.add_constant(X1) # adding a constant\n",
    " \n",
    "model2 = sm.OLS(Y1, X1).fit()\n",
    "predictions2 = model1.predict(X1) \n",
    " \n",
    "print_model2 = model1.summary()\n",
    "print(print_model1)"
   ]
  },
  {
   "cell_type": "code",
   "execution_count": 10,
   "metadata": {},
   "outputs": [],
   "source": [
    "# x_axis = epp[\"overall\"]\n",
    "\n",
    "# y_line = 0.6034+(x_axis*0.3270)+(x_axis * 0.1426)+(x_axis*0.2557)+(x_axis*0.1762) \n",
    "# # y_line = np.\n",
    "# plt.plot(x_axis, y_line)\n",
    "\n",
    "# plt.scatter(x_axis, epp[\"culture\"], marker=\"o\", facecolors=\"red\", edgecolors=\"black\",\n",
    "#             s=10, alpha=0.75)\n",
    "# plt.show()"
   ]
  },
  {
   "cell_type": "code",
   "execution_count": 11,
   "metadata": {
    "collapsed": true
   },
   "outputs": [],
   "source": [
    "#Limitations:\n",
    "#1) self selection \n",
    "#2) low data range (1-5)"
   ]
  },
  {
   "cell_type": "code",
   "execution_count": null,
   "metadata": {
    "collapsed": true
   },
   "outputs": [],
   "source": []
  },
  {
   "cell_type": "code",
   "execution_count": null,
   "metadata": {
    "collapsed": true
   },
   "outputs": [],
   "source": []
  }
 ],
 "metadata": {
  "kernelspec": {
   "display_name": "Python 3",
   "language": "python",
   "name": "python3"
  },
  "language_info": {
   "codemirror_mode": {
    "name": "ipython",
    "version": 3
   },
   "file_extension": ".py",
   "mimetype": "text/x-python",
   "name": "python",
   "nbconvert_exporter": "python",
   "pygments_lexer": "ipython3",
   "version": "3.6.1"
  }
 },
 "nbformat": 4,
 "nbformat_minor": 2
}
