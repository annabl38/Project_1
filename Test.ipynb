{
 "cells": [
  {
   "cell_type": "code",
   "execution_count": 54,
   "metadata": {},
   "outputs": [
    {
     "data": {
      "text/plain": [
       "'1) Food, food, food. 15+ cafes on main campus (MTV) alone. Mini-kitchens, snacks, drinks, free breakfast/lunch/dinner, all day, errr\\'day.  2) Benefits/perks. Free 24:7 gym access (on MTV campus). Free (self service) laundry (washer/dryer) available. Bowling alley. Volley ball pit. Custom-built and exclusive employee use only outdoor sport park (MTV). Free health/fitness assessments. Dog-friendly. Etc. etc. etc.  3) Compensation. In ~2010 or 2011, Google updated its compensation packages so that they were more competitive.  4) For the size of the organization (30K+), it has remained relatively innovative, nimble, and fast-paced and open with communication but, that is definitely changing (for the worse).  5) With so many departments, focus areas, and products, *in theory*, you should have plenty of opportunity to grow your career (horizontally or vertically). In practice, not true.  6) You get to work with some of the brightest, most innovative and hard-working/diligent minds in the industry. There\\'s a \"con\" to that, too (see below).'"
      ]
     },
     "execution_count": 54,
     "metadata": {},
     "output_type": "execute_result"
    }
   ],
   "source": [
    "import string\n",
    "from collections import Counter\n",
    "review = '''1) Food, food, food. 15+ cafes on main campus (MTV) alone. Mini-kitchens, snacks, drinks, free breakfast/lunch/dinner, all day, errr'day.  2) Benefits/perks. Free 24:7 gym access (on MTV campus). Free (self service) laundry (washer/dryer) available. Bowling alley. Volley ball pit. Custom-built and exclusive employee use only outdoor sport park (MTV). Free health/fitness assessments. Dog-friendly. Etc. etc. etc.  3) Compensation. In ~2010 or 2011, Google updated its compensation packages so that they were more competitive.  4) For the size of the organization (30K+), it has remained relatively innovative, nimble, and fast-paced and open with communication but, that is definitely changing (for the worse).  5) With so many departments, focus areas, and products, *in theory*, you should have plenty of opportunity to grow your career (horizontally or vertically). In practice, not true.  6) You get to work with some of the brightest, most innovative and hard-working/diligent minds in the industry. There's a \"con\" to that, too (see below).'''\n",
    "review"
   ]
  },
  {
   "cell_type": "code",
   "execution_count": 51,
   "metadata": {},
   "outputs": [
    {
     "data": {
      "text/plain": [
       "'   FOOD  FOOD  FOOD      CAFES ON MAIN CAMPUS  MTV  ALONE  MINI KITCHENS  SNACKS  DRINKS  FREE BREAKFAST LUNCH DINNER  ALL DAY  ERRR DAY      BENEFITS PERKS  FREE      GYM ACCESS  ON MTV CAMPUS   FREE  SELF SERVICE  LAUNDRY  WASHER DRYER  AVAILABLE  BOWLING ALLEY  VOLLEY BALL PIT  CUSTOM BUILT AND EXCLUSIVE EMPLOYEE USE ONLY OUTDOOR SPORT PARK  MTV   FREE HEALTH FITNESS ASSESSMENTS  DOG FRIENDLY  ETC  ETC  ETC      COMPENSATION  IN       OR       GOOGLE UPDATED ITS COMPENSATION PACKAGES SO THAT THEY WERE MORE COMPETITIVE      FOR THE SIZE OF THE ORGANIZATION    K    IT HAS REMAINED RELATIVELY INNOVATIVE  NIMBLE  AND FAST PACED AND OPEN WITH COMMUNICATION BUT  THAT IS DEFINITELY CHANGING  FOR THE WORSE       WITH SO MANY DEPARTMENTS  FOCUS AREAS  AND PRODUCTS   IN THEORY   YOU SHOULD HAVE PLENTY OF OPPORTUNITY TO GROW YOUR CAREER  HORIZONTALLY OR VERTICALLY   IN PRACTICE  NOT TRUE      YOU GET TO WORK WITH SOME OF THE BRIGHTEST  MOST INNOVATIVE AND HARD WORKING DILIGENT MINDS IN THE INDUSTRY  THERE S A  CON  TO THAT  TOO  SEE BELOW  '"
      ]
     },
     "execution_count": 51,
     "metadata": {},
     "output_type": "execute_result"
    }
   ],
   "source": [
    "words = review\n",
    "words = words.translate(str.maketrans(string.punctuation, ' '*len(string.punctuation)))\n",
    "words = words.translate(str.maketrans(string.digits, ' '*len(string.digits)))\n",
    "words = words.translate(str.maketrans(string.ascii_lowercase, string.ascii_uppercase))\n",
    "words\n"
   ]
  },
  {
   "cell_type": "code",
   "execution_count": 59,
   "metadata": {},
   "outputs": [
    {
     "data": {
      "text/plain": [
       "Counter({'FOOD': 6,\n",
       "         'CAFES': 2,\n",
       "         'ON': 4,\n",
       "         'MAIN': 2,\n",
       "         'CAMPUS': 4,\n",
       "         'MTV': 6,\n",
       "         'ALONE': 2,\n",
       "         'MINI': 2,\n",
       "         'KITCHENS': 2,\n",
       "         'SNACKS': 2,\n",
       "         'DRINKS': 2,\n",
       "         'FREE': 8,\n",
       "         'BREAKFAST': 2,\n",
       "         'LUNCH': 2,\n",
       "         'DINNER': 2,\n",
       "         'ALL': 2,\n",
       "         'DAY': 4,\n",
       "         'ERRR': 2,\n",
       "         'BENEFITS': 2,\n",
       "         'PERKS': 2,\n",
       "         'GYM': 2,\n",
       "         'ACCESS': 2,\n",
       "         'SELF': 2,\n",
       "         'SERVICE': 2,\n",
       "         'LAUNDRY': 2,\n",
       "         'WASHER': 2,\n",
       "         'DRYER': 2,\n",
       "         'AVAILABLE': 2,\n",
       "         'BOWLING': 2,\n",
       "         'ALLEY': 2,\n",
       "         'VOLLEY': 2,\n",
       "         'BALL': 2,\n",
       "         'PIT': 2,\n",
       "         'CUSTOM': 2,\n",
       "         'BUILT': 2,\n",
       "         'AND': 10,\n",
       "         'EXCLUSIVE': 2,\n",
       "         'EMPLOYEE': 2,\n",
       "         'USE': 2,\n",
       "         'ONLY': 2,\n",
       "         'OUTDOOR': 2,\n",
       "         'SPORT': 2,\n",
       "         'PARK': 2,\n",
       "         'HEALTH': 2,\n",
       "         'FITNESS': 2,\n",
       "         'ASSESSMENTS': 2,\n",
       "         'DOG': 2,\n",
       "         'FRIENDLY': 2,\n",
       "         'ETC': 6,\n",
       "         'COMPENSATION': 4,\n",
       "         'IN': 8,\n",
       "         'OR': 4,\n",
       "         'GOOGLE': 2,\n",
       "         'UPDATED': 2,\n",
       "         'ITS': 2,\n",
       "         'PACKAGES': 2,\n",
       "         'SO': 4,\n",
       "         'THAT': 6,\n",
       "         'THEY': 2,\n",
       "         'WERE': 2,\n",
       "         'MORE': 2,\n",
       "         'COMPETITIVE': 2,\n",
       "         'FOR': 4,\n",
       "         'THE': 10,\n",
       "         'SIZE': 2,\n",
       "         'OF': 6,\n",
       "         'ORGANIZATION': 2,\n",
       "         'K': 2,\n",
       "         'IT': 2,\n",
       "         'HAS': 2,\n",
       "         'REMAINED': 2,\n",
       "         'RELATIVELY': 2,\n",
       "         'INNOVATIVE': 4,\n",
       "         'NIMBLE': 2,\n",
       "         'FAST': 2,\n",
       "         'PACED': 2,\n",
       "         'OPEN': 2,\n",
       "         'WITH': 6,\n",
       "         'COMMUNICATION': 2,\n",
       "         'BUT': 2,\n",
       "         'IS': 2,\n",
       "         'DEFINITELY': 2,\n",
       "         'CHANGING': 2,\n",
       "         'WORSE': 2,\n",
       "         'MANY': 2,\n",
       "         'DEPARTMENTS': 2,\n",
       "         'FOCUS': 2,\n",
       "         'AREAS': 2,\n",
       "         'PRODUCTS': 2,\n",
       "         'THEORY': 2,\n",
       "         'YOU': 4,\n",
       "         'SHOULD': 2,\n",
       "         'HAVE': 2,\n",
       "         'PLENTY': 2,\n",
       "         'OPPORTUNITY': 2,\n",
       "         'TO': 6,\n",
       "         'GROW': 2,\n",
       "         'YOUR': 2,\n",
       "         'CAREER': 2,\n",
       "         'HORIZONTALLY': 2,\n",
       "         'VERTICALLY': 2,\n",
       "         'PRACTICE': 2,\n",
       "         'NOT': 2,\n",
       "         'TRUE': 2,\n",
       "         'GET': 2,\n",
       "         'WORK': 2,\n",
       "         'SOME': 2,\n",
       "         'BRIGHTEST': 2,\n",
       "         'MOST': 2,\n",
       "         'HARD': 2,\n",
       "         'WORKING': 2,\n",
       "         'DILIGENT': 2,\n",
       "         'MINDS': 2,\n",
       "         'INDUSTRY': 2,\n",
       "         'THERE': 2,\n",
       "         'S': 2,\n",
       "         'A': 2,\n",
       "         'CON': 2,\n",
       "         'TOO': 2,\n",
       "         'SEE': 2,\n",
       "         'BELOW': 2})"
      ]
     },
     "execution_count": 59,
     "metadata": {},
     "output_type": "execute_result"
    }
   ],
   "source": [
    "pros = words.split()\n",
    "pros_dict = Counter(pros)\n",
    "cons = words.split()\n",
    "cons_dict = Counter(cons)"
   ]
  },
  {
   "cell_type": "code",
   "execution_count": null,
   "metadata": {},
   "outputs": [],
   "source": []
  }
 ],
 "metadata": {
  "kernelspec": {
   "display_name": "Python 3",
   "language": "python",
   "name": "python3"
  },
  "language_info": {
   "codemirror_mode": {
    "name": "ipython",
    "version": 3
   },
   "file_extension": ".py",
   "mimetype": "text/x-python",
   "name": "python",
   "nbconvert_exporter": "python",
   "pygments_lexer": "ipython3",
   "version": "3.7.1"
  }
 },
 "nbformat": 4,
 "nbformat_minor": 2
}
