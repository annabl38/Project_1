{
 "cells": [
  {
   "cell_type": "code",
   "execution_count": 29,
   "metadata": {},
   "outputs": [],
   "source": [
    "# Dependencies\n",
    "import os\n",
    "import nltk, re, pprint\n",
    "from nltk import word_tokenize\n",
    "import pandas as pd\n",
    "import matplotlib as matplot\n",
    "from collections import Counter"
   ]
  },
  {
   "cell_type": "code",
   "execution_count": 30,
   "metadata": {},
   "outputs": [],
   "source": [
    "# Import file\n",
    "csv_data = pd.read_csv(os.path.join('.','employee_reviews.csv'))\n",
    "df = pd.DataFrame(csv_data)\n",
    "\n",
    "# Cycle through rows and write review values to a single long text file (one file for pros, one file for cons).\n",
    "with open('pros.txt', 'w') as pros:\n",
    "    for index, row in df.iterrows():\n",
    "        pros_holder = row['pros']\n",
    "        pros.write(pros_holder+'\\n')\n",
    "pros.close()\n",
    "    \n",
    "with open('cons.txt', 'w') as cons:\n",
    "    for index, row in df.iterrows():\n",
    "        cons_holder = row['cons']\n",
    "        cons.write(cons_holder+'\\n')\n",
    "cons.close()"
   ]
  },
  {
   "cell_type": "code",
   "execution_count": 33,
   "metadata": {},
   "outputs": [
    {
     "name": "stdout",
     "output_type": "stream",
     "text": [
      "<FreqDist with 32367 samples and 1651427 outcomes>\n",
      "[('.', 91424), (',', 79200), ('and', 53745), ('to', 48318), ('the', 37378), ('of', 30091), ('work', 27653), ('a', 27448), ('is', 23717), ('you', 22576), ('are', 17260), ('people', 17127), ('for', 16577), ('in', 16110), ('with', 15157), ('great', 14334), ('good', 13970), ('benefits', 13532), ('Great', 13046), ('company', 12174), ('-', 11911), ('I', 11631), ('on', 10864), ('that', 9044), ('The', 8442), ('Good', 8340), ('environment', 7850), ('your', 7559), ('it', 7527), ('very', 7143), ('have', 6946), ('pay', 6900), ('at', 6823), ('can', 6101), ('be', 5977), ('as', 5886), (')', 5864), ('culture', 5804), ('get', 5685), ('working', 5406), ('place', 5309), ('opportunities', 5285), (\"'s\", 5254), ('(', 5113), ('lot', 5022), ('You', 4974), ('from', 4959), ('smart', 4903), ('time', 4545), ('learn', 4478)]\n"
     ]
    }
   ],
   "source": [
    "# Text processing using NLTK library\n",
    "with open('pros.txt', 'r') as pros:\n",
    "    prostext = pros.read()\n",
    "    prostoken = nltk.word_tokenize(prostext)\n",
    "    prosdist = nltk.FreqDist(prostoken)\n",
    "    print(prosdist)\n",
    "    print(prosdist.most_common(50))"
   ]
  },
  {
   "cell_type": "code",
   "execution_count": null,
   "metadata": {},
   "outputs": [],
   "source": []
  }
 ],
 "metadata": {
  "kernelspec": {
   "display_name": "Python 3",
   "language": "python",
   "name": "python3"
  },
  "language_info": {
   "codemirror_mode": {
    "name": "ipython",
    "version": 3
   },
   "file_extension": ".py",
   "mimetype": "text/x-python",
   "name": "python",
   "nbconvert_exporter": "python",
   "pygments_lexer": "ipython3",
   "version": "3.7.1"
  }
 },
 "nbformat": 4,
 "nbformat_minor": 2
}
