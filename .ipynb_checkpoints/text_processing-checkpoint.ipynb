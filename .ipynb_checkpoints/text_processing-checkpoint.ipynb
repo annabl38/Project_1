{
 "cells": [
  {
   "cell_type": "code",
   "execution_count": 1,
   "metadata": {},
   "outputs": [],
   "source": [
    "# Dependencies\n",
    "import os\n",
    "import string\n",
    "\n",
    "import nltk\n",
    "from nltk import word_tokenize\n",
    "from nltk.corpus import stopwords\n",
    "from nltk.probability import FreqDist\n",
    "\n",
    "import pandas as pd\n",
    "import matplotlib as matplot\n",
    "\n",
    "from collections import Counter"
   ]
  },
  {
   "cell_type": "code",
   "execution_count": 2,
   "metadata": {},
   "outputs": [],
   "source": [
    "# Import file\n",
    "csv_data = pd.read_csv(os.path.join('.','employee_reviews.csv'))\n",
    "df = pd.DataFrame(csv_data)\n",
    "\n",
    "# Cycle through rows and write review values to a single long text file (one file for pros, one file for cons).\n",
    "with open('pros.txt', 'w') as pros:\n",
    "    for index, row in df.iterrows():\n",
    "        pros_holder = row['pros']\n",
    "        pros.write(pros_holder+'\\n')\n",
    "pros.close()\n",
    "    \n",
    "with open('cons.txt', 'w') as cons:\n",
    "    for index, row in df.iterrows():\n",
    "        cons_holder = row['cons']\n",
    "        cons.write(cons_holder+'\\n')\n",
    "cons.close()"
   ]
  },
  {
   "cell_type": "code",
   "execution_count": 3,
   "metadata": {},
   "outputs": [],
   "source": [
    "# Creates a stopwords set.\n",
    "stop_words=set(stopwords.words(\"english\"))\n",
    "stopcaps = []\n",
    "for word in stop_words:\n",
    "    word = word.translate(str.maketrans(string.ascii_lowercase, string.ascii_uppercase))\n",
    "    stopcaps.append(word)"
   ]
  },
  {
   "cell_type": "code",
   "execution_count": 5,
   "metadata": {},
   "outputs": [
    {
     "data": {
      "text/plain": [
       "[('WORK', 32100),\n",
       " ('GREAT', 27827),\n",
       " ('GOOD', 22624),\n",
       " ('PEOPLE', 18527),\n",
       " ('BENEFITS', 16614),\n",
       " ('COMPANY', 13315),\n",
       " ('PAY', 8432),\n",
       " ('ENVIRONMENT', 8276),\n",
       " ('WORKING', 6683),\n",
       " ('CULTURE', 6641),\n",
       " ('SMART', 6362),\n",
       " ('GET', 6157),\n",
       " ('OPPORTUNITIES', 5906),\n",
       " ('LOT', 5448),\n",
       " ('PLACE', 5434),\n",
       " ('TIME', 5288),\n",
       " ('LEARN', 4789),\n",
       " ('BEST', 4737),\n",
       " ('LOTS', 4694),\n",
       " ('LIFE', 4674),\n",
       " ('JOB', 4530),\n",
       " ('TEAM', 4480),\n",
       " ('AMAZON', 4365),\n",
       " ('REALLY', 4255),\n",
       " ('AMAZING', 4010),\n",
       " ('PRODUCTS', 3808),\n",
       " ('EMPLOYEES', 3800),\n",
       " ('BALANCE', 3764),\n",
       " ('NEW', 3651),\n",
       " ('NICE', 3487),\n",
       " ('OPPORTUNITY', 3306),\n",
       " ('LIKE', 3300),\n",
       " ('MANAGEMENT', 3290),\n",
       " ('PERKS', 3276),\n",
       " ('CAREER', 3264),\n",
       " ('FUN', 3192),\n",
       " ('MANY', 3171),\n",
       " ('SALARY', 3069),\n",
       " ('APPLE', 3053),\n",
       " ('WELL', 3022),\n",
       " ('FLEXIBLE', 2907),\n",
       " ('HOURS', 2900),\n",
       " ('GROWTH', 2898),\n",
       " ('FREE', 2831),\n",
       " ('FAST', 2776),\n",
       " ('EXPERIENCE', 2738),\n",
       " ('ONE', 2675),\n",
       " ('MICROSOFT', 2665),\n",
       " ('MAKE', 2660),\n",
       " ('DAY', 2524)]"
      ]
     },
     "execution_count": 5,
     "metadata": {},
     "output_type": "execute_result"
    }
   ],
   "source": [
    "# Opens Pros text file, removes punctuation and numbers.\n",
    "with open('pros.txt', 'r') as pros:\n",
    "    prostext = pros.read()\n",
    "    proswords = prostext\n",
    "    proswords = proswords.translate(str.maketrans(string.punctuation, ' '*len(string.punctuation)))\n",
    "    proswords = proswords.translate(str.maketrans(string.digits, ' '*len(string.digits)))\n",
    "    proswords = proswords.translate(str.maketrans(string.ascii_lowercase, string.ascii_uppercase))\n",
    "    prostoken = nltk.word_tokenize(proswords)\n",
    "pros.close()\n",
    "    \n",
    "# Creates a list of tokens after stopwords filtered out.\n",
    "filteredpros=[]\n",
    "for w in prostoken:\n",
    "    if w not in stopcaps:\n",
    "        filteredpros.append(w)        \n",
    "prosdist = FreqDist(filteredpros)\n",
    "\n",
    "# Print out 50 most commonly used tokens.\n",
    "prosdist.most_common(50)\n",
    "\n",
    "\n"
   ]
  },
  {
   "cell_type": "code",
   "execution_count": null,
   "metadata": {},
   "outputs": [],
   "source": []
  }
 ],
 "metadata": {
  "kernelspec": {
   "display_name": "Python 3",
   "language": "python",
   "name": "python3"
  },
  "language_info": {
   "codemirror_mode": {
    "name": "ipython",
    "version": 3
   },
   "file_extension": ".py",
   "mimetype": "text/x-python",
   "name": "python",
   "nbconvert_exporter": "python",
   "pygments_lexer": "ipython3",
   "version": "3.7.1"
  }
 },
 "nbformat": 4,
 "nbformat_minor": 2
}
